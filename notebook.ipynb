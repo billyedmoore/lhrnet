{
 "cells": [
  {
   "cell_type": "code",
   "execution_count": null,
   "metadata": {},
   "outputs": [],
   "source": [
    "import tensorflow as tf\n",
    "from imblearn.over_sampling import SMOTE\n",
    "import numpy as np\n",
    "import tf2onnx\n",
    "import onnx\n",
    "\n",
    "from lhrNetUtils.data_loader import lhrNetDataLoader\n",
    "from lhrNetUtils import Config\n",
    "\n",
    "config = Config(\"config.json\")"
   ]
  },
  {
   "cell_type": "code",
   "execution_count": null,
   "metadata": {},
   "outputs": [],
   "source": [
    "n_states = len(config.get_states())\n",
    "\n",
    "testDataLoader = lhrNetDataLoader(\"data/test_details.csv\",config.get_y_length(),config.get_x_length(),n_states,8)\n",
    "trainDataLoader = lhrNetDataLoader(\"data/train_details.csv\",config.get_y_length(),config.get_x_length(),n_states,8)"
   ]
  },
  {
   "cell_type": "code",
   "execution_count": null,
   "metadata": {},
   "outputs": [],
   "source": [
    "model = tf.keras.models.Sequential([\n",
    "    tf.keras.layers.Input((config.get_y_length(),config.get_x_length())),\n",
    "    tf.keras.layers.Flatten(),\n",
    "    tf.keras.layers.Dense(128,activation=\"relu\"),\n",
    "    tf.keras.layers.Dropout(0.2),\n",
    "    tf.keras.layers.Dense(64,activation=\"relu\"),\n",
    "    tf.keras.layers.Dense(n_states,activation=\"softmax\")\n",
    "])\n",
    "\n",
    "loss_fn = tf.keras.losses.CategoricalCrossentropy()\n",
    "model.compile(optimizer=\"adam\",loss=loss_fn,metrics=[\"accuracy\"])"
   ]
  },
  {
   "cell_type": "code",
   "execution_count": null,
   "metadata": {},
   "outputs": [],
   "source": [
    "oversample = SMOTE()\n",
    "\n",
    "y = np.array(trainDataLoader.y)\n",
    "flatX = np.reshape(trainDataLoader.X,(len(y),config.get_x_length()*config.get_y_length()))\n",
    "flatX,y = oversample.fit_resample(flatX,y)\n",
    "\n",
    "X = np.reshape(flatX,(len(y),config.get_y_length(),config.get_x_length()))\n",
    "X = X.astype(np.float32)"
   ]
  },
  {
   "cell_type": "code",
   "execution_count": null,
   "metadata": {},
   "outputs": [],
   "source": [
    "model.fit(x=X,y=y,batch_size=trainDataLoader.batch_size,epochs=60)\n"
   ]
  },
  {
   "cell_type": "code",
   "execution_count": null,
   "metadata": {},
   "outputs": [],
   "source": [
    "import numpy as np\n",
    "from sklearn.metrics import classification_report\n",
    "y_pred = np.argmax(model.predict(testDataLoader), axis=-1)\n",
    "print(classification_report(testDataLoader.y_arr, y_pred))"
   ]
  },
  {
   "cell_type": "code",
   "execution_count": null,
   "metadata": {},
   "outputs": [],
   "source": [
    "np.set_printoptions(suppress=True)"
   ]
  },
  {
   "cell_type": "code",
   "execution_count": null,
   "metadata": {},
   "outputs": [],
   "source": [
    "model.save(\"data/model.keras\")"
   ]
  },
  {
   "cell_type": "code",
   "execution_count": null,
   "metadata": {},
   "outputs": [],
   "source": [
    "model.output_names=[\"output\"]\n",
    "spec = (tf.TensorSpec((None, 32, 64), tf.float32, name=\"input\"),)\n",
    "onnx_model,_ = tf2onnx.convert.from_keras(model,input_signature=spec)"
   ]
  },
  {
   "cell_type": "code",
   "execution_count": null,
   "metadata": {},
   "outputs": [],
   "source": [
    "onnx.save(onnx_model,\"data/model.onnx\")"
   ]
  },
  {
   "cell_type": "code",
   "execution_count": null,
   "metadata": {},
   "outputs": [],
   "source": [
    "print(model.input_shape)\n",
    "print([node.name for node in onnx_model.graph.output])"
   ]
  }
 ],
 "metadata": {
  "kernelspec": {
   "display_name": "venv",
   "language": "python",
   "name": "python3"
  },
  "language_info": {
   "codemirror_mode": {
    "name": "ipython",
    "version": 3
   },
   "file_extension": ".py",
   "mimetype": "text/x-python",
   "name": "python",
   "nbconvert_exporter": "python",
   "pygments_lexer": "ipython3",
   "version": "3.12.7"
  }
 },
 "nbformat": 4,
 "nbformat_minor": 2
}
